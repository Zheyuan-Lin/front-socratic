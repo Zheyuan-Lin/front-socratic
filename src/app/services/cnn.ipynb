{
 "cells": [
  {
   "cell_type": "code",
   "execution_count": null,
   "metadata": {},
   "outputs": [],
   "source": [
    "import numpy as np\n",
    "import torch\n",
    "import torch.nn as nn\n",
    "import torch.optim as optim\n"
   ]
  },
  {
   "cell_type": "code",
   "execution_count": null,
   "metadata": {},
   "outputs": [],
   "source": [
    "\n",
    "class TextCNN(nn.Module):\n",
    "    \n",
    "    def__init__(self, vocab_size : int, embedding_size: int, num_classes: int, filter_sizes: List[int], num_filters: int, dropout: float):\n",
    "        super(TextCNN, self).__init__()\n",
    "        self.embedding_size = embedding_size\n",
    "        self.vocab_size = vocab_size\n",
    "        self.num_classes = num_classes\n",
    "        self.filter_sizes = filter_sizes\n",
    "        self.num_filters = num_filters\n",
    "\n",
    "\n",
    "        #embedding layer\n",
    "        self.embedding = nn.Embedding(vocab_size, embedding)\n",
    "\n",
    "\n",
    "        #convolutional layers\n",
    "        self.convs = nn.ModuleList([\n",
    "            nn.Cov2d(1, num_filters, (size, embedding_size))\n",
    "            for size in filter_sizes\n",
    "        ])\n",
    "\n",
    "        self.dropout = nn.Dropout(dropout)\n",
    "        self.fc = nn.Linear(len(filter_sizes) * num_filters, num_classes)\n",
    "        self.init_weights()\n",
    "    \n",
    "    def init_weights(self):\n"
   ]
  }
 ],
 "metadata": {
  "kernelspec": {
   "display_name": "lumo",
   "language": "python",
   "name": "python3"
  },
  "language_info": {
   "name": "python",
   "version": "3.10.16"
  }
 },
 "nbformat": 4,
 "nbformat_minor": 2
}
